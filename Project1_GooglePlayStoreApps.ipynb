{
 "cells": [
  {
   "cell_type": "markdown",
   "metadata": {},
   "source": [
    "# Industrial Data Science Training \n",
    "# Project 1: Analysis of Google Play Store Apps\n",
    "# Instructor: Dr Waqas Ali\n",
    "This is the first project of my online data science training program. A company wants to introduce their new app on google play store. They want to know what type of app  would be most profitable. As a data scientist, my goal is to analyze the data, recommend the best category that the company should pick for their new app. The data consist of 10841 rows and 13 columns."
   ]
  },
  {
   "cell_type": "code",
   "execution_count": 1,
   "metadata": {},
   "outputs": [],
   "source": [
    "import pandas as pd\n",
    "import numpy as np\n",
    "import matplotlib.pyplot as plt"
   ]
  },
  {
   "cell_type": "code",
   "execution_count": 2,
   "metadata": {},
   "outputs": [],
   "source": [
    "#Get the dataset\n",
    "dataset= pd.read_csv(\"googleplaystore.csv\")\n"
   ]
  },
  {
   "cell_type": "code",
   "execution_count": 3,
   "metadata": {},
   "outputs": [
    {
     "data": {
      "text/html": [
       "<div>\n",
       "<style scoped>\n",
       "    .dataframe tbody tr th:only-of-type {\n",
       "        vertical-align: middle;\n",
       "    }\n",
       "\n",
       "    .dataframe tbody tr th {\n",
       "        vertical-align: top;\n",
       "    }\n",
       "\n",
       "    .dataframe thead th {\n",
       "        text-align: right;\n",
       "    }\n",
       "</style>\n",
       "<table border=\"1\" class=\"dataframe\">\n",
       "  <thead>\n",
       "    <tr style=\"text-align: right;\">\n",
       "      <th></th>\n",
       "      <th>App</th>\n",
       "      <th>Category</th>\n",
       "      <th>Rating</th>\n",
       "      <th>Reviews</th>\n",
       "      <th>Size</th>\n",
       "      <th>Installs</th>\n",
       "      <th>Type</th>\n",
       "      <th>Price</th>\n",
       "      <th>Content Rating</th>\n",
       "      <th>Genres</th>\n",
       "      <th>Last Updated</th>\n",
       "      <th>Current Ver</th>\n",
       "      <th>Android Ver</th>\n",
       "    </tr>\n",
       "  </thead>\n",
       "  <tbody>\n",
       "    <tr>\n",
       "      <th>0</th>\n",
       "      <td>Photo Editor &amp; Candy Camera &amp; Grid &amp; ScrapBook</td>\n",
       "      <td>ART_AND_DESIGN</td>\n",
       "      <td>4.1</td>\n",
       "      <td>159</td>\n",
       "      <td>19M</td>\n",
       "      <td>10,000+</td>\n",
       "      <td>Free</td>\n",
       "      <td>0</td>\n",
       "      <td>Everyone</td>\n",
       "      <td>Art &amp; Design</td>\n",
       "      <td>January 7, 2018</td>\n",
       "      <td>1.0.0</td>\n",
       "      <td>4.0.3 and up</td>\n",
       "    </tr>\n",
       "    <tr>\n",
       "      <th>1</th>\n",
       "      <td>Coloring book moana</td>\n",
       "      <td>ART_AND_DESIGN</td>\n",
       "      <td>3.9</td>\n",
       "      <td>967</td>\n",
       "      <td>14M</td>\n",
       "      <td>500,000+</td>\n",
       "      <td>Free</td>\n",
       "      <td>0</td>\n",
       "      <td>Everyone</td>\n",
       "      <td>Art &amp; Design;Pretend Play</td>\n",
       "      <td>January 15, 2018</td>\n",
       "      <td>2.0.0</td>\n",
       "      <td>4.0.3 and up</td>\n",
       "    </tr>\n",
       "    <tr>\n",
       "      <th>2</th>\n",
       "      <td>U Launcher Lite – FREE Live Cool Themes, Hide ...</td>\n",
       "      <td>ART_AND_DESIGN</td>\n",
       "      <td>4.7</td>\n",
       "      <td>87510</td>\n",
       "      <td>8.7M</td>\n",
       "      <td>5,000,000+</td>\n",
       "      <td>Free</td>\n",
       "      <td>0</td>\n",
       "      <td>Everyone</td>\n",
       "      <td>Art &amp; Design</td>\n",
       "      <td>August 1, 2018</td>\n",
       "      <td>1.2.4</td>\n",
       "      <td>4.0.3 and up</td>\n",
       "    </tr>\n",
       "    <tr>\n",
       "      <th>3</th>\n",
       "      <td>Sketch - Draw &amp; Paint</td>\n",
       "      <td>ART_AND_DESIGN</td>\n",
       "      <td>4.5</td>\n",
       "      <td>215644</td>\n",
       "      <td>25M</td>\n",
       "      <td>50,000,000+</td>\n",
       "      <td>Free</td>\n",
       "      <td>0</td>\n",
       "      <td>Teen</td>\n",
       "      <td>Art &amp; Design</td>\n",
       "      <td>June 8, 2018</td>\n",
       "      <td>Varies with device</td>\n",
       "      <td>4.2 and up</td>\n",
       "    </tr>\n",
       "    <tr>\n",
       "      <th>4</th>\n",
       "      <td>Pixel Draw - Number Art Coloring Book</td>\n",
       "      <td>ART_AND_DESIGN</td>\n",
       "      <td>4.3</td>\n",
       "      <td>967</td>\n",
       "      <td>2.8M</td>\n",
       "      <td>100,000+</td>\n",
       "      <td>Free</td>\n",
       "      <td>0</td>\n",
       "      <td>Everyone</td>\n",
       "      <td>Art &amp; Design;Creativity</td>\n",
       "      <td>June 20, 2018</td>\n",
       "      <td>1.1</td>\n",
       "      <td>4.4 and up</td>\n",
       "    </tr>\n",
       "  </tbody>\n",
       "</table>\n",
       "</div>"
      ],
      "text/plain": [
       "                                                 App        Category  Rating  \\\n",
       "0     Photo Editor & Candy Camera & Grid & ScrapBook  ART_AND_DESIGN     4.1   \n",
       "1                                Coloring book moana  ART_AND_DESIGN     3.9   \n",
       "2  U Launcher Lite – FREE Live Cool Themes, Hide ...  ART_AND_DESIGN     4.7   \n",
       "3                              Sketch - Draw & Paint  ART_AND_DESIGN     4.5   \n",
       "4              Pixel Draw - Number Art Coloring Book  ART_AND_DESIGN     4.3   \n",
       "\n",
       "  Reviews  Size     Installs  Type Price Content Rating  \\\n",
       "0     159   19M      10,000+  Free     0       Everyone   \n",
       "1     967   14M     500,000+  Free     0       Everyone   \n",
       "2   87510  8.7M   5,000,000+  Free     0       Everyone   \n",
       "3  215644   25M  50,000,000+  Free     0           Teen   \n",
       "4     967  2.8M     100,000+  Free     0       Everyone   \n",
       "\n",
       "                      Genres      Last Updated         Current Ver  \\\n",
       "0               Art & Design   January 7, 2018               1.0.0   \n",
       "1  Art & Design;Pretend Play  January 15, 2018               2.0.0   \n",
       "2               Art & Design    August 1, 2018               1.2.4   \n",
       "3               Art & Design      June 8, 2018  Varies with device   \n",
       "4    Art & Design;Creativity     June 20, 2018                 1.1   \n",
       "\n",
       "    Android Ver  \n",
       "0  4.0.3 and up  \n",
       "1  4.0.3 and up  \n",
       "2  4.0.3 and up  \n",
       "3    4.2 and up  \n",
       "4    4.4 and up  "
      ]
     },
     "execution_count": 3,
     "metadata": {},
     "output_type": "execute_result"
    }
   ],
   "source": [
    "#Show the first five rows of the data to see how our data looks like \n",
    "dataset.head()"
   ]
  },
  {
   "cell_type": "code",
   "execution_count": 4,
   "metadata": {},
   "outputs": [
    {
     "name": "stdout",
     "output_type": "stream",
     "text": [
      "Shape:  (10841, 13)\n",
      "<class 'pandas.core.frame.DataFrame'>\n",
      "RangeIndex: 10841 entries, 0 to 10840\n",
      "Data columns (total 13 columns):\n",
      " #   Column          Non-Null Count  Dtype  \n",
      "---  ------          --------------  -----  \n",
      " 0   App             10841 non-null  object \n",
      " 1   Category        10841 non-null  object \n",
      " 2   Rating          9367 non-null   float64\n",
      " 3   Reviews         10841 non-null  object \n",
      " 4   Size            10841 non-null  object \n",
      " 5   Installs        10841 non-null  object \n",
      " 6   Type            10840 non-null  object \n",
      " 7   Price           10841 non-null  object \n",
      " 8   Content Rating  10840 non-null  object \n",
      " 9   Genres          10841 non-null  object \n",
      " 10  Last Updated    10841 non-null  object \n",
      " 11  Current Ver     10833 non-null  object \n",
      " 12  Android Ver     10838 non-null  object \n",
      "dtypes: float64(1), object(12)\n",
      "memory usage: 1.1+ MB\n",
      "None\n"
     ]
    }
   ],
   "source": [
    "#shape and info of the data\n",
    "print(\"Shape: \",dataset.shape)\n",
    "print(dataset.info())"
   ]
  },
  {
   "cell_type": "code",
   "execution_count": 5,
   "metadata": {},
   "outputs": [
    {
     "data": {
      "text/plain": [
       "App               Life Made WI-Fi Touchscreen Photo Frame\n",
       "Category                                              1.9\n",
       "Rating                                                 19\n",
       "Reviews                                              3.0M\n",
       "Size                                               1,000+\n",
       "Installs                                             Free\n",
       "Type                                                    0\n",
       "Price                                            Everyone\n",
       "Content Rating                                        NaN\n",
       "Genres                                  February 11, 2018\n",
       "Last Updated                                       1.0.19\n",
       "Current Ver                                    4.0 and up\n",
       "Android Ver                                           NaN\n",
       "Name: 10472, dtype: object"
      ]
     },
     "execution_count": 5,
     "metadata": {},
     "output_type": "execute_result"
    }
   ],
   "source": [
    "#Discussion on Kaggle showed that row 10472 has incorrect data. Lets check it and if incorrect, remove it for now.\n",
    "dataset.iloc[10472]"
   ]
  },
  {
   "cell_type": "code",
   "execution_count": 6,
   "metadata": {},
   "outputs": [],
   "source": [
    "#delete the row for now. we can also fill it if we want. \n",
    "#dataset = dataset.drop(10472,axis =0), 1 method to delete the row\n",
    "dataset.drop(10472, axis =0 , inplace = True)"
   ]
  },
  {
   "cell_type": "code",
   "execution_count": 7,
   "metadata": {},
   "outputs": [
    {
     "name": "stdout",
     "output_type": "stream",
     "text": [
      "App               osmino Wi-Fi: free WiFi\n",
      "Category                            TOOLS\n",
      "Rating                                4.2\n",
      "Reviews                            134203\n",
      "Size                                 4.1M\n",
      "Installs                      10,000,000+\n",
      "Type                                 Free\n",
      "Price                                   0\n",
      "Content Rating                   Everyone\n",
      "Genres                              Tools\n",
      "Last Updated               August 7, 2018\n",
      "Current Ver                       6.06.14\n",
      "Android Ver                    4.4 and up\n",
      "Name: 10473, dtype: object\n",
      "App               osmino Wi-Fi: free WiFi\n",
      "Category                            TOOLS\n",
      "Rating                                4.2\n",
      "Reviews                            134203\n",
      "Size                                 4.1M\n",
      "Installs                      10,000,000+\n",
      "Type                                 Free\n",
      "Price                                   0\n",
      "Content Rating                   Everyone\n",
      "Genres                              Tools\n",
      "Last Updated               August 7, 2018\n",
      "Current Ver                       6.06.14\n",
      "Android Ver                    4.4 and up\n",
      "Name: 10473, dtype: object\n"
     ]
    }
   ],
   "source": [
    "#iloc uses the index present at the backend while loc uses the front end index\n",
    "print(dataset.loc[10473])\n",
    "print(dataset.iloc[10472])"
   ]
  },
  {
   "cell_type": "code",
   "execution_count": 8,
   "metadata": {},
   "outputs": [
    {
     "data": {
      "text/plain": [
       "1181"
      ]
     },
     "execution_count": 8,
     "metadata": {},
     "output_type": "execute_result"
    }
   ],
   "source": [
    "#Now lets check out for the duplicated values in the dataset\n",
    "dataset.duplicated(['App']).sum()"
   ]
  },
  {
   "cell_type": "code",
   "execution_count": 9,
   "metadata": {},
   "outputs": [
    {
     "data": {
      "text/html": [
       "<div>\n",
       "<style scoped>\n",
       "    .dataframe tbody tr th:only-of-type {\n",
       "        vertical-align: middle;\n",
       "    }\n",
       "\n",
       "    .dataframe tbody tr th {\n",
       "        vertical-align: top;\n",
       "    }\n",
       "\n",
       "    .dataframe thead th {\n",
       "        text-align: right;\n",
       "    }\n",
       "</style>\n",
       "<table border=\"1\" class=\"dataframe\">\n",
       "  <thead>\n",
       "    <tr style=\"text-align: right;\">\n",
       "      <th></th>\n",
       "      <th>App</th>\n",
       "      <th>Category</th>\n",
       "      <th>Rating</th>\n",
       "      <th>Reviews</th>\n",
       "      <th>Size</th>\n",
       "      <th>Installs</th>\n",
       "      <th>Type</th>\n",
       "      <th>Price</th>\n",
       "      <th>Content Rating</th>\n",
       "      <th>Genres</th>\n",
       "      <th>Last Updated</th>\n",
       "      <th>Current Ver</th>\n",
       "      <th>Android Ver</th>\n",
       "    </tr>\n",
       "  </thead>\n",
       "  <tbody>\n",
       "    <tr>\n",
       "      <th>229</th>\n",
       "      <td>Quick PDF Scanner + OCR FREE</td>\n",
       "      <td>BUSINESS</td>\n",
       "      <td>4.2</td>\n",
       "      <td>80805</td>\n",
       "      <td>Varies with device</td>\n",
       "      <td>5,000,000+</td>\n",
       "      <td>Free</td>\n",
       "      <td>0</td>\n",
       "      <td>Everyone</td>\n",
       "      <td>Business</td>\n",
       "      <td>February 26, 2018</td>\n",
       "      <td>Varies with device</td>\n",
       "      <td>4.0.3 and up</td>\n",
       "    </tr>\n",
       "    <tr>\n",
       "      <th>236</th>\n",
       "      <td>Box</td>\n",
       "      <td>BUSINESS</td>\n",
       "      <td>4.2</td>\n",
       "      <td>159872</td>\n",
       "      <td>Varies with device</td>\n",
       "      <td>10,000,000+</td>\n",
       "      <td>Free</td>\n",
       "      <td>0</td>\n",
       "      <td>Everyone</td>\n",
       "      <td>Business</td>\n",
       "      <td>July 31, 2018</td>\n",
       "      <td>Varies with device</td>\n",
       "      <td>Varies with device</td>\n",
       "    </tr>\n",
       "    <tr>\n",
       "      <th>239</th>\n",
       "      <td>Google My Business</td>\n",
       "      <td>BUSINESS</td>\n",
       "      <td>4.4</td>\n",
       "      <td>70991</td>\n",
       "      <td>Varies with device</td>\n",
       "      <td>5,000,000+</td>\n",
       "      <td>Free</td>\n",
       "      <td>0</td>\n",
       "      <td>Everyone</td>\n",
       "      <td>Business</td>\n",
       "      <td>July 24, 2018</td>\n",
       "      <td>2.19.0.204537701</td>\n",
       "      <td>4.4 and up</td>\n",
       "    </tr>\n",
       "    <tr>\n",
       "      <th>256</th>\n",
       "      <td>ZOOM Cloud Meetings</td>\n",
       "      <td>BUSINESS</td>\n",
       "      <td>4.4</td>\n",
       "      <td>31614</td>\n",
       "      <td>37M</td>\n",
       "      <td>10,000,000+</td>\n",
       "      <td>Free</td>\n",
       "      <td>0</td>\n",
       "      <td>Everyone</td>\n",
       "      <td>Business</td>\n",
       "      <td>July 20, 2018</td>\n",
       "      <td>4.1.28165.0716</td>\n",
       "      <td>4.0 and up</td>\n",
       "    </tr>\n",
       "    <tr>\n",
       "      <th>261</th>\n",
       "      <td>join.me - Simple Meetings</td>\n",
       "      <td>BUSINESS</td>\n",
       "      <td>4.0</td>\n",
       "      <td>6989</td>\n",
       "      <td>Varies with device</td>\n",
       "      <td>1,000,000+</td>\n",
       "      <td>Free</td>\n",
       "      <td>0</td>\n",
       "      <td>Everyone</td>\n",
       "      <td>Business</td>\n",
       "      <td>July 16, 2018</td>\n",
       "      <td>4.3.0.508</td>\n",
       "      <td>4.4 and up</td>\n",
       "    </tr>\n",
       "    <tr>\n",
       "      <th>...</th>\n",
       "      <td>...</td>\n",
       "      <td>...</td>\n",
       "      <td>...</td>\n",
       "      <td>...</td>\n",
       "      <td>...</td>\n",
       "      <td>...</td>\n",
       "      <td>...</td>\n",
       "      <td>...</td>\n",
       "      <td>...</td>\n",
       "      <td>...</td>\n",
       "      <td>...</td>\n",
       "      <td>...</td>\n",
       "      <td>...</td>\n",
       "    </tr>\n",
       "    <tr>\n",
       "      <th>10715</th>\n",
       "      <td>FarmersOnly Dating</td>\n",
       "      <td>DATING</td>\n",
       "      <td>3.0</td>\n",
       "      <td>1145</td>\n",
       "      <td>1.4M</td>\n",
       "      <td>100,000+</td>\n",
       "      <td>Free</td>\n",
       "      <td>0</td>\n",
       "      <td>Mature 17+</td>\n",
       "      <td>Dating</td>\n",
       "      <td>February 25, 2016</td>\n",
       "      <td>2.2</td>\n",
       "      <td>4.0 and up</td>\n",
       "    </tr>\n",
       "    <tr>\n",
       "      <th>10720</th>\n",
       "      <td>Firefox Focus: The privacy browser</td>\n",
       "      <td>COMMUNICATION</td>\n",
       "      <td>4.4</td>\n",
       "      <td>36981</td>\n",
       "      <td>4.0M</td>\n",
       "      <td>1,000,000+</td>\n",
       "      <td>Free</td>\n",
       "      <td>0</td>\n",
       "      <td>Everyone</td>\n",
       "      <td>Communication</td>\n",
       "      <td>July 6, 2018</td>\n",
       "      <td>5.2</td>\n",
       "      <td>5.0 and up</td>\n",
       "    </tr>\n",
       "    <tr>\n",
       "      <th>10730</th>\n",
       "      <td>FP Notebook</td>\n",
       "      <td>MEDICAL</td>\n",
       "      <td>4.5</td>\n",
       "      <td>410</td>\n",
       "      <td>60M</td>\n",
       "      <td>50,000+</td>\n",
       "      <td>Free</td>\n",
       "      <td>0</td>\n",
       "      <td>Everyone</td>\n",
       "      <td>Medical</td>\n",
       "      <td>March 24, 2018</td>\n",
       "      <td>2.1.0.372</td>\n",
       "      <td>4.4 and up</td>\n",
       "    </tr>\n",
       "    <tr>\n",
       "      <th>10753</th>\n",
       "      <td>Slickdeals: Coupons &amp; Shopping</td>\n",
       "      <td>SHOPPING</td>\n",
       "      <td>4.5</td>\n",
       "      <td>33599</td>\n",
       "      <td>12M</td>\n",
       "      <td>1,000,000+</td>\n",
       "      <td>Free</td>\n",
       "      <td>0</td>\n",
       "      <td>Everyone</td>\n",
       "      <td>Shopping</td>\n",
       "      <td>July 30, 2018</td>\n",
       "      <td>3.9</td>\n",
       "      <td>4.4 and up</td>\n",
       "    </tr>\n",
       "    <tr>\n",
       "      <th>10768</th>\n",
       "      <td>AAFP</td>\n",
       "      <td>MEDICAL</td>\n",
       "      <td>3.8</td>\n",
       "      <td>63</td>\n",
       "      <td>24M</td>\n",
       "      <td>10,000+</td>\n",
       "      <td>Free</td>\n",
       "      <td>0</td>\n",
       "      <td>Everyone</td>\n",
       "      <td>Medical</td>\n",
       "      <td>June 22, 2018</td>\n",
       "      <td>2.3.1</td>\n",
       "      <td>5.0 and up</td>\n",
       "    </tr>\n",
       "  </tbody>\n",
       "</table>\n",
       "<p>1181 rows × 13 columns</p>\n",
       "</div>"
      ],
      "text/plain": [
       "                                      App       Category  Rating Reviews  \\\n",
       "229          Quick PDF Scanner + OCR FREE       BUSINESS     4.2   80805   \n",
       "236                                   Box       BUSINESS     4.2  159872   \n",
       "239                    Google My Business       BUSINESS     4.4   70991   \n",
       "256                   ZOOM Cloud Meetings       BUSINESS     4.4   31614   \n",
       "261             join.me - Simple Meetings       BUSINESS     4.0    6989   \n",
       "...                                   ...            ...     ...     ...   \n",
       "10715                  FarmersOnly Dating         DATING     3.0    1145   \n",
       "10720  Firefox Focus: The privacy browser  COMMUNICATION     4.4   36981   \n",
       "10730                         FP Notebook        MEDICAL     4.5     410   \n",
       "10753      Slickdeals: Coupons & Shopping       SHOPPING     4.5   33599   \n",
       "10768                                AAFP        MEDICAL     3.8      63   \n",
       "\n",
       "                     Size     Installs  Type Price Content Rating  \\\n",
       "229    Varies with device   5,000,000+  Free     0       Everyone   \n",
       "236    Varies with device  10,000,000+  Free     0       Everyone   \n",
       "239    Varies with device   5,000,000+  Free     0       Everyone   \n",
       "256                   37M  10,000,000+  Free     0       Everyone   \n",
       "261    Varies with device   1,000,000+  Free     0       Everyone   \n",
       "...                   ...          ...   ...   ...            ...   \n",
       "10715                1.4M     100,000+  Free     0     Mature 17+   \n",
       "10720                4.0M   1,000,000+  Free     0       Everyone   \n",
       "10730                 60M      50,000+  Free     0       Everyone   \n",
       "10753                 12M   1,000,000+  Free     0       Everyone   \n",
       "10768                 24M      10,000+  Free     0       Everyone   \n",
       "\n",
       "              Genres       Last Updated         Current Ver  \\\n",
       "229         Business  February 26, 2018  Varies with device   \n",
       "236         Business      July 31, 2018  Varies with device   \n",
       "239         Business      July 24, 2018    2.19.0.204537701   \n",
       "256         Business      July 20, 2018      4.1.28165.0716   \n",
       "261         Business      July 16, 2018           4.3.0.508   \n",
       "...              ...                ...                 ...   \n",
       "10715         Dating  February 25, 2016                 2.2   \n",
       "10720  Communication       July 6, 2018                 5.2   \n",
       "10730        Medical     March 24, 2018           2.1.0.372   \n",
       "10753       Shopping      July 30, 2018                 3.9   \n",
       "10768        Medical      June 22, 2018               2.3.1   \n",
       "\n",
       "              Android Ver  \n",
       "229          4.0.3 and up  \n",
       "236    Varies with device  \n",
       "239            4.4 and up  \n",
       "256            4.0 and up  \n",
       "261            4.4 and up  \n",
       "...                   ...  \n",
       "10715          4.0 and up  \n",
       "10720          5.0 and up  \n",
       "10730          4.4 and up  \n",
       "10753          4.4 and up  \n",
       "10768          5.0 and up  \n",
       "\n",
       "[1181 rows x 13 columns]"
      ]
     },
     "execution_count": 9,
     "metadata": {},
     "output_type": "execute_result"
    }
   ],
   "source": [
    "duplicates = dataset.duplicated(['App'])\n",
    "dataset[duplicates]"
   ]
  },
  {
   "cell_type": "code",
   "execution_count": 10,
   "metadata": {},
   "outputs": [
    {
     "data": {
      "text/html": [
       "<div>\n",
       "<style scoped>\n",
       "    .dataframe tbody tr th:only-of-type {\n",
       "        vertical-align: middle;\n",
       "    }\n",
       "\n",
       "    .dataframe tbody tr th {\n",
       "        vertical-align: top;\n",
       "    }\n",
       "\n",
       "    .dataframe thead th {\n",
       "        text-align: right;\n",
       "    }\n",
       "</style>\n",
       "<table border=\"1\" class=\"dataframe\">\n",
       "  <thead>\n",
       "    <tr style=\"text-align: right;\">\n",
       "      <th></th>\n",
       "      <th>App</th>\n",
       "      <th>Category</th>\n",
       "      <th>Rating</th>\n",
       "      <th>Reviews</th>\n",
       "      <th>Size</th>\n",
       "      <th>Installs</th>\n",
       "      <th>Type</th>\n",
       "      <th>Price</th>\n",
       "      <th>Content Rating</th>\n",
       "      <th>Genres</th>\n",
       "      <th>Last Updated</th>\n",
       "      <th>Current Ver</th>\n",
       "      <th>Android Ver</th>\n",
       "    </tr>\n",
       "  </thead>\n",
       "  <tbody>\n",
       "    <tr>\n",
       "      <th>2545</th>\n",
       "      <td>Instagram</td>\n",
       "      <td>SOCIAL</td>\n",
       "      <td>4.5</td>\n",
       "      <td>66577313</td>\n",
       "      <td>Varies with device</td>\n",
       "      <td>1,000,000,000+</td>\n",
       "      <td>Free</td>\n",
       "      <td>0</td>\n",
       "      <td>Teen</td>\n",
       "      <td>Social</td>\n",
       "      <td>July 31, 2018</td>\n",
       "      <td>Varies with device</td>\n",
       "      <td>Varies with device</td>\n",
       "    </tr>\n",
       "    <tr>\n",
       "      <th>2604</th>\n",
       "      <td>Instagram</td>\n",
       "      <td>SOCIAL</td>\n",
       "      <td>4.5</td>\n",
       "      <td>66577446</td>\n",
       "      <td>Varies with device</td>\n",
       "      <td>1,000,000,000+</td>\n",
       "      <td>Free</td>\n",
       "      <td>0</td>\n",
       "      <td>Teen</td>\n",
       "      <td>Social</td>\n",
       "      <td>July 31, 2018</td>\n",
       "      <td>Varies with device</td>\n",
       "      <td>Varies with device</td>\n",
       "    </tr>\n",
       "    <tr>\n",
       "      <th>2611</th>\n",
       "      <td>Instagram</td>\n",
       "      <td>SOCIAL</td>\n",
       "      <td>4.5</td>\n",
       "      <td>66577313</td>\n",
       "      <td>Varies with device</td>\n",
       "      <td>1,000,000,000+</td>\n",
       "      <td>Free</td>\n",
       "      <td>0</td>\n",
       "      <td>Teen</td>\n",
       "      <td>Social</td>\n",
       "      <td>July 31, 2018</td>\n",
       "      <td>Varies with device</td>\n",
       "      <td>Varies with device</td>\n",
       "    </tr>\n",
       "    <tr>\n",
       "      <th>3909</th>\n",
       "      <td>Instagram</td>\n",
       "      <td>SOCIAL</td>\n",
       "      <td>4.5</td>\n",
       "      <td>66509917</td>\n",
       "      <td>Varies with device</td>\n",
       "      <td>1,000,000,000+</td>\n",
       "      <td>Free</td>\n",
       "      <td>0</td>\n",
       "      <td>Teen</td>\n",
       "      <td>Social</td>\n",
       "      <td>July 31, 2018</td>\n",
       "      <td>Varies with device</td>\n",
       "      <td>Varies with device</td>\n",
       "    </tr>\n",
       "  </tbody>\n",
       "</table>\n",
       "</div>"
      ],
      "text/plain": [
       "            App Category  Rating   Reviews                Size  \\\n",
       "2545  Instagram   SOCIAL     4.5  66577313  Varies with device   \n",
       "2604  Instagram   SOCIAL     4.5  66577446  Varies with device   \n",
       "2611  Instagram   SOCIAL     4.5  66577313  Varies with device   \n",
       "3909  Instagram   SOCIAL     4.5  66509917  Varies with device   \n",
       "\n",
       "            Installs  Type Price Content Rating  Genres   Last Updated  \\\n",
       "2545  1,000,000,000+  Free     0           Teen  Social  July 31, 2018   \n",
       "2604  1,000,000,000+  Free     0           Teen  Social  July 31, 2018   \n",
       "2611  1,000,000,000+  Free     0           Teen  Social  July 31, 2018   \n",
       "3909  1,000,000,000+  Free     0           Teen  Social  July 31, 2018   \n",
       "\n",
       "             Current Ver         Android Ver  \n",
       "2545  Varies with device  Varies with device  \n",
       "2604  Varies with device  Varies with device  \n",
       "2611  Varies with device  Varies with device  \n",
       "3909  Varies with device  Varies with device  "
      ]
     },
     "execution_count": 10,
     "metadata": {},
     "output_type": "execute_result"
    }
   ],
   "source": [
    "dataset[dataset['App']=='Instagram']"
   ]
  },
  {
   "cell_type": "code",
   "execution_count": 11,
   "metadata": {},
   "outputs": [],
   "source": [
    "dataset['Reviews'] = dataset['Reviews'].astype(float)"
   ]
  },
  {
   "cell_type": "code",
   "execution_count": 12,
   "metadata": {},
   "outputs": [],
   "source": [
    "dataset.sort_values('Reviews',ascending = False, inplace = True)"
   ]
  },
  {
   "cell_type": "code",
   "execution_count": 13,
   "metadata": {},
   "outputs": [],
   "source": [
    "dataset.drop_duplicates(['App'],inplace = True)"
   ]
  },
  {
   "cell_type": "code",
   "execution_count": 14,
   "metadata": {},
   "outputs": [
    {
     "data": {
      "text/plain": [
       "(9659, 13)"
      ]
     },
     "execution_count": 14,
     "metadata": {},
     "output_type": "execute_result"
    }
   ],
   "source": [
    "dataset.shape"
   ]
  },
  {
   "cell_type": "code",
   "execution_count": 15,
   "metadata": {},
   "outputs": [
    {
     "name": "stdout",
     "output_type": "stream",
     "text": [
      "<class 'pandas.core.frame.DataFrame'>\n",
      "Int64Index: 9659 entries, 2544 to 5086\n",
      "Data columns (total 13 columns):\n",
      " #   Column          Non-Null Count  Dtype  \n",
      "---  ------          --------------  -----  \n",
      " 0   App             9659 non-null   object \n",
      " 1   Category        9659 non-null   object \n",
      " 2   Rating          8196 non-null   float64\n",
      " 3   Reviews         9659 non-null   float64\n",
      " 4   Size            9659 non-null   object \n",
      " 5   Installs        9659 non-null   object \n",
      " 6   Type            9658 non-null   object \n",
      " 7   Price           9659 non-null   object \n",
      " 8   Content Rating  9659 non-null   object \n",
      " 9   Genres          9659 non-null   object \n",
      " 10  Last Updated    9659 non-null   object \n",
      " 11  Current Ver     9651 non-null   object \n",
      " 12  Android Ver     9657 non-null   object \n",
      "dtypes: float64(2), object(11)\n",
      "memory usage: 1.0+ MB\n"
     ]
    }
   ],
   "source": [
    "dataset.info()"
   ]
  },
  {
   "cell_type": "code",
   "execution_count": 16,
   "metadata": {},
   "outputs": [
    {
     "data": {
      "text/plain": [
       "array(['Free', 'Paid', nan], dtype=object)"
      ]
     },
     "execution_count": 16,
     "metadata": {},
     "output_type": "execute_result"
    }
   ],
   "source": [
    "#The apps that are most profitable are free so lets start with the type of the dataset \n",
    "dataset['Type'].unique()"
   ]
  },
  {
   "cell_type": "code",
   "execution_count": 17,
   "metadata": {},
   "outputs": [
    {
     "data": {
      "text/plain": [
       "Free    8904\n",
       "Paid     754\n",
       "NaN        1\n",
       "Name: Type, dtype: int64"
      ]
     },
     "execution_count": 17,
     "metadata": {},
     "output_type": "execute_result"
    }
   ],
   "source": [
    "dataset['Type'].value_counts(dropna = False)"
   ]
  },
  {
   "cell_type": "code",
   "execution_count": 18,
   "metadata": {},
   "outputs": [],
   "source": [
    "dataset = dataset[dataset[\"Type\"] == \"Free\"]"
   ]
  },
  {
   "cell_type": "code",
   "execution_count": 19,
   "metadata": {},
   "outputs": [
    {
     "data": {
      "text/plain": [
       "(8904, 13)"
      ]
     },
     "execution_count": 19,
     "metadata": {},
     "output_type": "execute_result"
    }
   ],
   "source": [
    "dataset.shape"
   ]
  },
  {
   "cell_type": "code",
   "execution_count": 20,
   "metadata": {},
   "outputs": [
    {
     "data": {
      "text/plain": [
       "2538                                                  tökr\n",
       "2640                     uCiC- Videos and Photos on demand\n",
       "7366                                             usgang.ch\n",
       "4707                                                v-view\n",
       "6871                                van Gennip Textiles BV\n",
       "1027                                     vide-greniers.org\n",
       "3697                                          video player\n",
       "3685                              video player for android\n",
       "5658       view.com.au - Buy, Rent or Research Real Estate\n",
       "5431                                      virtual lover 3D\n",
       "1593                                              w UN map\n",
       "7348                                              waut.ch!\n",
       "3631                            weather - weather forecast\n",
       "3312                          weight conversion calculator\n",
       "3652                        wetter.com - Weather and Radar\n",
       "8644                           wikiHow: how to do anything\n",
       "4811                               yHomework - Math Solver\n",
       "2758         zulily - Shop Daily Deals in Fashion and Home\n",
       "5844                                            ¡Ay Metro!\n",
       "9819                                            ¿Es Vegan?\n",
       "3859                                            ÖBB Scotty\n",
       "1081                                                 İşCep\n",
       "8133                          Šmelina .cz inzeráty inzerce\n",
       "7818                                   Аim Training for CS\n",
       "3750                                           РИА Новости\n",
       "7187                       РееI Smart Remote MP3 CD Player\n",
       "9308               أحداث وحقائق | خبر عاجل في اخبار العالم\n",
       "7751                                   الفاتحون Conquerors\n",
       "4193                                             صور حرف H\n",
       "9117                                     لعبة تقدر تربح DZ\n",
       "6006                          বাংলা টিভি প্রো BD Bangla TV\n",
       "9200                                             বাংলাflix\n",
       "1592                သိင်္ Astrology - Min Thein Kha BayDin\n",
       "3960                          ► MultiCraft ― Free Miner! 👍\n",
       "5569                              【Miku AR Camera】Mikuture\n",
       "321      【Ranobbe complete free】 Novelba - Free app tha...\n",
       "6418                                         あなカレ【BL】無料ゲーム\n",
       "9466                       パーリーゲイツ公式通販｜EJ STYLE（イージェイスタイル）\n",
       "5513                                           中国語 AQリスニング\n",
       "1488     乐屋网: Buying a house, selling a house, renting ...\n",
       "3824     乗換NAVITIME　Timetable & Route Search in Japan T...\n",
       "10109                                              哈哈姆特不EY\n",
       "5698                                                日本AV历史\n",
       "313                    漫咖 Comics - Manga,Novel and Stories\n",
       "9222                                    英漢字典 EC Dictionary\n",
       "6420                                           감성학원 BL 첫사랑\n",
       "6334                               뽕티비 - 개인방송, 인터넷방송, BJ방송\n",
       "2575         💘 WhatsLov: Smileys of love, stickers and GIF\n",
       "7559      📏 Smart Ruler ↔️ cm/inch measuring for homework!\n",
       "882       🔥 Football Wallpapers 4K | Full HD Backgrounds 😍\n",
       "Name: App, dtype: object"
      ]
     },
     "execution_count": 20,
     "metadata": {},
     "output_type": "execute_result"
    }
   ],
   "source": [
    "#lets lookout for the language now. we will focus on English Language apps\n",
    "dataset['App'].sort_values().tail(50)"
   ]
  },
  {
   "cell_type": "code",
   "execution_count": 21,
   "metadata": {},
   "outputs": [],
   "source": [
    "#0-127 ASCII RANGE FOR ENGLISH ALPHABETS\n",
    "def english(app_name):\n",
    "    non_eng = 0\n",
    "    for i in app_name:\n",
    "        if ord(i)>127:\n",
    "            non_eng+=1\n",
    "    if non_eng>3:\n",
    "        return False\n",
    "    else:\n",
    "        return True"
   ]
  },
  {
   "cell_type": "code",
   "execution_count": 22,
   "metadata": {},
   "outputs": [
    {
     "data": {
      "text/plain": [
       "True"
      ]
     },
     "execution_count": 22,
     "metadata": {},
     "output_type": "execute_result"
    }
   ],
   "source": [
    "english('漫咖 Comics - Manga,Novel and Stories')"
   ]
  },
  {
   "cell_type": "code",
   "execution_count": 23,
   "metadata": {},
   "outputs": [
    {
     "data": {
      "text/plain": [
       "False"
      ]
     },
     "execution_count": 23,
     "metadata": {},
     "output_type": "execute_result"
    }
   ],
   "source": [
    "english('英漢字典 EC Dictionary')"
   ]
  },
  {
   "cell_type": "code",
   "execution_count": 24,
   "metadata": {},
   "outputs": [],
   "source": [
    "is_english = dataset['App'].apply(english)"
   ]
  },
  {
   "cell_type": "code",
   "execution_count": 25,
   "metadata": {},
   "outputs": [
    {
     "data": {
      "text/plain": [
       "8863"
      ]
     },
     "execution_count": 25,
     "metadata": {},
     "output_type": "execute_result"
    }
   ],
   "source": [
    "english_app_count = is_english.sum()\n",
    "english_app_count"
   ]
  },
  {
   "cell_type": "code",
   "execution_count": 26,
   "metadata": {},
   "outputs": [
    {
     "data": {
      "text/plain": [
       "(8863, 13)"
      ]
     },
     "execution_count": 26,
     "metadata": {},
     "output_type": "execute_result"
    }
   ],
   "source": [
    "dataset_final = dataset[is_english].copy()\n",
    "dataset_final.shape"
   ]
  },
  {
   "cell_type": "code",
   "execution_count": 27,
   "metadata": {},
   "outputs": [
    {
     "data": {
      "text/html": [
       "<div>\n",
       "<style scoped>\n",
       "    .dataframe tbody tr th:only-of-type {\n",
       "        vertical-align: middle;\n",
       "    }\n",
       "\n",
       "    .dataframe tbody tr th {\n",
       "        vertical-align: top;\n",
       "    }\n",
       "\n",
       "    .dataframe thead th {\n",
       "        text-align: right;\n",
       "    }\n",
       "</style>\n",
       "<table border=\"1\" class=\"dataframe\">\n",
       "  <thead>\n",
       "    <tr style=\"text-align: right;\">\n",
       "      <th></th>\n",
       "      <th>App</th>\n",
       "      <th>Category</th>\n",
       "      <th>Rating</th>\n",
       "      <th>Reviews</th>\n",
       "      <th>Size</th>\n",
       "      <th>Installs</th>\n",
       "      <th>Type</th>\n",
       "      <th>Price</th>\n",
       "      <th>Content Rating</th>\n",
       "      <th>Genres</th>\n",
       "      <th>Last Updated</th>\n",
       "      <th>Current Ver</th>\n",
       "      <th>Android Ver</th>\n",
       "    </tr>\n",
       "  </thead>\n",
       "  <tbody>\n",
       "    <tr>\n",
       "      <th>2544</th>\n",
       "      <td>Facebook</td>\n",
       "      <td>SOCIAL</td>\n",
       "      <td>4.1</td>\n",
       "      <td>78158306.0</td>\n",
       "      <td>Varies with device</td>\n",
       "      <td>1,000,000,000+</td>\n",
       "      <td>Free</td>\n",
       "      <td>0</td>\n",
       "      <td>Teen</td>\n",
       "      <td>Social</td>\n",
       "      <td>August 3, 2018</td>\n",
       "      <td>Varies with device</td>\n",
       "      <td>Varies with device</td>\n",
       "    </tr>\n",
       "    <tr>\n",
       "      <th>381</th>\n",
       "      <td>WhatsApp Messenger</td>\n",
       "      <td>COMMUNICATION</td>\n",
       "      <td>4.4</td>\n",
       "      <td>69119316.0</td>\n",
       "      <td>Varies with device</td>\n",
       "      <td>1,000,000,000+</td>\n",
       "      <td>Free</td>\n",
       "      <td>0</td>\n",
       "      <td>Everyone</td>\n",
       "      <td>Communication</td>\n",
       "      <td>August 3, 2018</td>\n",
       "      <td>Varies with device</td>\n",
       "      <td>Varies with device</td>\n",
       "    </tr>\n",
       "    <tr>\n",
       "      <th>2604</th>\n",
       "      <td>Instagram</td>\n",
       "      <td>SOCIAL</td>\n",
       "      <td>4.5</td>\n",
       "      <td>66577446.0</td>\n",
       "      <td>Varies with device</td>\n",
       "      <td>1,000,000,000+</td>\n",
       "      <td>Free</td>\n",
       "      <td>0</td>\n",
       "      <td>Teen</td>\n",
       "      <td>Social</td>\n",
       "      <td>July 31, 2018</td>\n",
       "      <td>Varies with device</td>\n",
       "      <td>Varies with device</td>\n",
       "    </tr>\n",
       "    <tr>\n",
       "      <th>382</th>\n",
       "      <td>Messenger – Text and Video Chat for Free</td>\n",
       "      <td>COMMUNICATION</td>\n",
       "      <td>4.0</td>\n",
       "      <td>56646578.0</td>\n",
       "      <td>Varies with device</td>\n",
       "      <td>1,000,000,000+</td>\n",
       "      <td>Free</td>\n",
       "      <td>0</td>\n",
       "      <td>Everyone</td>\n",
       "      <td>Communication</td>\n",
       "      <td>August 1, 2018</td>\n",
       "      <td>Varies with device</td>\n",
       "      <td>Varies with device</td>\n",
       "    </tr>\n",
       "    <tr>\n",
       "      <th>1879</th>\n",
       "      <td>Clash of Clans</td>\n",
       "      <td>GAME</td>\n",
       "      <td>4.6</td>\n",
       "      <td>44893888.0</td>\n",
       "      <td>98M</td>\n",
       "      <td>100,000,000+</td>\n",
       "      <td>Free</td>\n",
       "      <td>0</td>\n",
       "      <td>Everyone 10+</td>\n",
       "      <td>Strategy</td>\n",
       "      <td>July 15, 2018</td>\n",
       "      <td>10.322.16</td>\n",
       "      <td>4.1 and up</td>\n",
       "    </tr>\n",
       "  </tbody>\n",
       "</table>\n",
       "</div>"
      ],
      "text/plain": [
       "                                           App       Category  Rating  \\\n",
       "2544                                  Facebook         SOCIAL     4.1   \n",
       "381                         WhatsApp Messenger  COMMUNICATION     4.4   \n",
       "2604                                 Instagram         SOCIAL     4.5   \n",
       "382   Messenger – Text and Video Chat for Free  COMMUNICATION     4.0   \n",
       "1879                            Clash of Clans           GAME     4.6   \n",
       "\n",
       "         Reviews                Size        Installs  Type Price  \\\n",
       "2544  78158306.0  Varies with device  1,000,000,000+  Free     0   \n",
       "381   69119316.0  Varies with device  1,000,000,000+  Free     0   \n",
       "2604  66577446.0  Varies with device  1,000,000,000+  Free     0   \n",
       "382   56646578.0  Varies with device  1,000,000,000+  Free     0   \n",
       "1879  44893888.0                 98M    100,000,000+  Free     0   \n",
       "\n",
       "     Content Rating         Genres    Last Updated         Current Ver  \\\n",
       "2544           Teen         Social  August 3, 2018  Varies with device   \n",
       "381        Everyone  Communication  August 3, 2018  Varies with device   \n",
       "2604           Teen         Social   July 31, 2018  Varies with device   \n",
       "382        Everyone  Communication  August 1, 2018  Varies with device   \n",
       "1879   Everyone 10+       Strategy   July 15, 2018           10.322.16   \n",
       "\n",
       "             Android Ver  \n",
       "2544  Varies with device  \n",
       "381   Varies with device  \n",
       "2604  Varies with device  \n",
       "382   Varies with device  \n",
       "1879          4.1 and up  "
      ]
     },
     "execution_count": 27,
     "metadata": {},
     "output_type": "execute_result"
    }
   ],
   "source": [
    "#dataset has been cleaned now. Now it's time for the data analysis\n",
    "dataset_final.head()"
   ]
  },
  {
   "cell_type": "code",
   "execution_count": 28,
   "metadata": {},
   "outputs": [],
   "source": [
    "#The apps we have now are free so thats why no need for Type and Price column\n",
    "dataset_final.drop(['Type','Price'],axis=1,inplace=True)"
   ]
  },
  {
   "cell_type": "code",
   "execution_count": 29,
   "metadata": {},
   "outputs": [
    {
     "data": {
      "text/plain": [
       "(8863, 11)"
      ]
     },
     "execution_count": 29,
     "metadata": {},
     "output_type": "execute_result"
    }
   ],
   "source": [
    "dataset_final.shape"
   ]
  },
  {
   "cell_type": "code",
   "execution_count": 30,
   "metadata": {},
   "outputs": [],
   "source": [
    "#To recommend which category is more profitable, we need to look at the number of installs.\n",
    "dataset_final['Installs'] = dataset_final['Installs'].str.replace(',','').str.replace('+','').astype(int)"
   ]
  },
  {
   "cell_type": "code",
   "execution_count": 31,
   "metadata": {},
   "outputs": [
    {
     "data": {
      "text/plain": [
       "FAMILY                 1676\n",
       "GAME                    861\n",
       "TOOLS                   750\n",
       "BUSINESS                407\n",
       "LIFESTYLE               346\n",
       "PRODUCTIVITY            345\n",
       "FINANCE                 328\n",
       "MEDICAL                 313\n",
       "SPORTS                  301\n",
       "PERSONALIZATION         294\n",
       "COMMUNICATION           287\n",
       "HEALTH_AND_FITNESS      273\n",
       "PHOTOGRAPHY             261\n",
       "NEWS_AND_MAGAZINES      248\n",
       "SOCIAL                  236\n",
       "TRAVEL_AND_LOCAL        207\n",
       "SHOPPING                199\n",
       "BOOKS_AND_REFERENCE     190\n",
       "DATING                  165\n",
       "VIDEO_PLAYERS           159\n",
       "MAPS_AND_NAVIGATION     124\n",
       "FOOD_AND_DRINK          110\n",
       "EDUCATION               103\n",
       "ENTERTAINMENT            85\n",
       "LIBRARIES_AND_DEMO       83\n",
       "AUTO_AND_VEHICLES        82\n",
       "HOUSE_AND_HOME           73\n",
       "WEATHER                  71\n",
       "EVENTS                   63\n",
       "PARENTING                58\n",
       "ART_AND_DESIGN           57\n",
       "COMICS                   55\n",
       "BEAUTY                   53\n",
       "Name: Category, dtype: int64"
      ]
     },
     "execution_count": 31,
     "metadata": {},
     "output_type": "execute_result"
    }
   ],
   "source": [
    "dataset_final['Category'].value_counts()"
   ]
  },
  {
   "cell_type": "code",
   "execution_count": 32,
   "metadata": {},
   "outputs": [
    {
     "data": {
      "text/plain": [
       "Category\n",
       "COMMUNICATION          3.845612e+07\n",
       "VIDEO_PLAYERS          2.472787e+07\n",
       "SOCIAL                 2.325365e+07\n",
       "PHOTOGRAPHY            1.784011e+07\n",
       "PRODUCTIVITY           1.678733e+07\n",
       "GAME                   1.559451e+07\n",
       "TRAVEL_AND_LOCAL       1.398408e+07\n",
       "ENTERTAINMENT          1.164071e+07\n",
       "TOOLS                  1.080139e+07\n",
       "NEWS_AND_MAGAZINES     9.549178e+06\n",
       "BOOKS_AND_REFERENCE    8.767812e+06\n",
       "SHOPPING               7.036877e+06\n",
       "PERSONALIZATION        5.201483e+06\n",
       "WEATHER                5.074486e+06\n",
       "HEALTH_AND_FITNESS     4.188822e+06\n",
       "MAPS_AND_NAVIGATION    4.056942e+06\n",
       "FAMILY                 3.701608e+06\n",
       "SPORTS                 3.638640e+06\n",
       "ART_AND_DESIGN         1.986335e+06\n",
       "FOOD_AND_DRINK         1.924898e+06\n",
       "EDUCATION              1.833495e+06\n",
       "BUSINESS               1.712290e+06\n",
       "LIFESTYLE              1.437816e+06\n",
       "FINANCE                1.387692e+06\n",
       "HOUSE_AND_HOME         1.331541e+06\n",
       "DATING                 8.540288e+05\n",
       "COMICS                 8.176573e+05\n",
       "AUTO_AND_VEHICLES      6.473178e+05\n",
       "LIBRARIES_AND_DEMO     6.385037e+05\n",
       "PARENTING              5.426036e+05\n",
       "BEAUTY                 5.131519e+05\n",
       "EVENTS                 2.535422e+05\n",
       "MEDICAL                1.205506e+05\n",
       "Name: Installs, dtype: float64"
      ]
     },
     "execution_count": 32,
     "metadata": {},
     "output_type": "execute_result"
    }
   ],
   "source": [
    "#more number of apps do not mean that the category is popular.\n",
    "#we need to find the mean value by dividing it the number of installs.\n",
    "dataset_final.groupby('Category')['Installs'].mean().sort_values(ascending=False)"
   ]
  },
  {
   "cell_type": "code",
   "execution_count": 33,
   "metadata": {},
   "outputs": [],
   "source": [
    "#We have found out the most popular category is the Communication category. but will it be most profitable?\n",
    "# Let's check this out!\n",
    "comm_category = dataset_final[dataset_final['Category']=='COMMUNICATION']"
   ]
  },
  {
   "cell_type": "code",
   "execution_count": 34,
   "metadata": {},
   "outputs": [
    {
     "data": {
      "text/html": [
       "<div>\n",
       "<style scoped>\n",
       "    .dataframe tbody tr th:only-of-type {\n",
       "        vertical-align: middle;\n",
       "    }\n",
       "\n",
       "    .dataframe tbody tr th {\n",
       "        vertical-align: top;\n",
       "    }\n",
       "\n",
       "    .dataframe thead th {\n",
       "        text-align: right;\n",
       "    }\n",
       "</style>\n",
       "<table border=\"1\" class=\"dataframe\">\n",
       "  <thead>\n",
       "    <tr style=\"text-align: right;\">\n",
       "      <th></th>\n",
       "      <th>App</th>\n",
       "      <th>Installs</th>\n",
       "    </tr>\n",
       "  </thead>\n",
       "  <tbody>\n",
       "    <tr>\n",
       "      <th>381</th>\n",
       "      <td>WhatsApp Messenger</td>\n",
       "      <td>1000000000</td>\n",
       "    </tr>\n",
       "    <tr>\n",
       "      <th>468</th>\n",
       "      <td>Skype - free IM &amp; video calls</td>\n",
       "      <td>1000000000</td>\n",
       "    </tr>\n",
       "    <tr>\n",
       "      <th>382</th>\n",
       "      <td>Messenger – Text and Video Chat for Free</td>\n",
       "      <td>1000000000</td>\n",
       "    </tr>\n",
       "    <tr>\n",
       "      <th>451</th>\n",
       "      <td>Gmail</td>\n",
       "      <td>1000000000</td>\n",
       "    </tr>\n",
       "    <tr>\n",
       "      <th>411</th>\n",
       "      <td>Google Chrome: Fast &amp; Secure</td>\n",
       "      <td>1000000000</td>\n",
       "    </tr>\n",
       "    <tr>\n",
       "      <th>...</th>\n",
       "      <td>...</td>\n",
       "      <td>...</td>\n",
       "    </tr>\n",
       "    <tr>\n",
       "      <th>9455</th>\n",
       "      <td>EJ messenger</td>\n",
       "      <td>10</td>\n",
       "    </tr>\n",
       "    <tr>\n",
       "      <th>9648</th>\n",
       "      <td>EO Mumbai</td>\n",
       "      <td>10</td>\n",
       "    </tr>\n",
       "    <tr>\n",
       "      <th>10169</th>\n",
       "      <td>Test Server SMS FA</td>\n",
       "      <td>5</td>\n",
       "    </tr>\n",
       "    <tr>\n",
       "      <th>6399</th>\n",
       "      <td>Of the wall Arapaho bk</td>\n",
       "      <td>5</td>\n",
       "    </tr>\n",
       "    <tr>\n",
       "      <th>5921</th>\n",
       "      <td>BA SALES</td>\n",
       "      <td>1</td>\n",
       "    </tr>\n",
       "  </tbody>\n",
       "</table>\n",
       "<p>287 rows × 2 columns</p>\n",
       "</div>"
      ],
      "text/plain": [
       "                                            App    Installs\n",
       "381                          WhatsApp Messenger  1000000000\n",
       "468               Skype - free IM & video calls  1000000000\n",
       "382    Messenger – Text and Video Chat for Free  1000000000\n",
       "451                                       Gmail  1000000000\n",
       "411                Google Chrome: Fast & Secure  1000000000\n",
       "...                                         ...         ...\n",
       "9455                               EJ messenger          10\n",
       "9648                                  EO Mumbai          10\n",
       "10169                        Test Server SMS FA           5\n",
       "6399                     Of the wall Arapaho bk           5\n",
       "5921                                   BA SALES           1\n",
       "\n",
       "[287 rows x 2 columns]"
      ]
     },
     "execution_count": 34,
     "metadata": {},
     "output_type": "execute_result"
    }
   ],
   "source": [
    "comm_category[['App','Installs']].sort_values('Installs',ascending = False)"
   ]
  },
  {
   "cell_type": "markdown",
   "metadata": {},
   "source": [
    "Does the company want to go in competition with WhatsApp, Skype, and Messenger. If yes, then they should build the app in communication category otherwise, I as a data scientist will not suggest app in this category."
   ]
  },
  {
   "cell_type": "code",
   "execution_count": 35,
   "metadata": {},
   "outputs": [
    {
     "data": {
      "text/html": [
       "<div>\n",
       "<style scoped>\n",
       "    .dataframe tbody tr th:only-of-type {\n",
       "        vertical-align: middle;\n",
       "    }\n",
       "\n",
       "    .dataframe tbody tr th {\n",
       "        vertical-align: top;\n",
       "    }\n",
       "\n",
       "    .dataframe thead th {\n",
       "        text-align: right;\n",
       "    }\n",
       "</style>\n",
       "<table border=\"1\" class=\"dataframe\">\n",
       "  <thead>\n",
       "    <tr style=\"text-align: right;\">\n",
       "      <th></th>\n",
       "      <th>App</th>\n",
       "      <th>Installs</th>\n",
       "    </tr>\n",
       "  </thead>\n",
       "  <tbody>\n",
       "    <tr>\n",
       "      <th>3665</th>\n",
       "      <td>YouTube</td>\n",
       "      <td>1000000000</td>\n",
       "    </tr>\n",
       "    <tr>\n",
       "      <th>3687</th>\n",
       "      <td>Google Play Movies &amp; TV</td>\n",
       "      <td>1000000000</td>\n",
       "    </tr>\n",
       "    <tr>\n",
       "      <th>3711</th>\n",
       "      <td>MX Player</td>\n",
       "      <td>500000000</td>\n",
       "    </tr>\n",
       "    <tr>\n",
       "      <th>3675</th>\n",
       "      <td>VLC for Android</td>\n",
       "      <td>100000000</td>\n",
       "    </tr>\n",
       "    <tr>\n",
       "      <th>3672</th>\n",
       "      <td>Motorola Gallery</td>\n",
       "      <td>100000000</td>\n",
       "    </tr>\n",
       "    <tr>\n",
       "      <th>...</th>\n",
       "      <td>...</td>\n",
       "      <td>...</td>\n",
       "    </tr>\n",
       "    <tr>\n",
       "      <th>5985</th>\n",
       "      <td>Bc Vod</td>\n",
       "      <td>100</td>\n",
       "    </tr>\n",
       "    <tr>\n",
       "      <th>6950</th>\n",
       "      <td>Bx-WiFi-GI</td>\n",
       "      <td>100</td>\n",
       "    </tr>\n",
       "    <tr>\n",
       "      <th>6153</th>\n",
       "      <td>BG MUSIC PLAYER - MUSIC PLAYER</td>\n",
       "      <td>100</td>\n",
       "    </tr>\n",
       "    <tr>\n",
       "      <th>10519</th>\n",
       "      <td>Art of F J Taylor</td>\n",
       "      <td>10</td>\n",
       "    </tr>\n",
       "    <tr>\n",
       "      <th>7394</th>\n",
       "      <td>CI Stream</td>\n",
       "      <td>10</td>\n",
       "    </tr>\n",
       "  </tbody>\n",
       "</table>\n",
       "<p>159 rows × 2 columns</p>\n",
       "</div>"
      ],
      "text/plain": [
       "                                  App    Installs\n",
       "3665                          YouTube  1000000000\n",
       "3687          Google Play Movies & TV  1000000000\n",
       "3711                        MX Player   500000000\n",
       "3675                  VLC for Android   100000000\n",
       "3672                 Motorola Gallery   100000000\n",
       "...                               ...         ...\n",
       "5985                           Bc Vod         100\n",
       "6950                       Bx-WiFi-GI         100\n",
       "6153   BG MUSIC PLAYER - MUSIC PLAYER         100\n",
       "10519               Art of F J Taylor          10\n",
       "7394                        CI Stream          10\n",
       "\n",
       "[159 rows x 2 columns]"
      ]
     },
     "execution_count": 35,
     "metadata": {},
     "output_type": "execute_result"
    }
   ],
   "source": [
    "#The next popular category is Video_Player. Let's check this out \n",
    "vp_category = dataset_final[dataset_final['Category']=='VIDEO_PLAYERS']\n",
    "vp_category[['App','Installs']].sort_values('Installs',ascending = False)"
   ]
  },
  {
   "cell_type": "markdown",
   "metadata": {},
   "source": [
    "Again, this category contains industry giants so it will not be profitable for the compete with them. Let's check out the next category."
   ]
  },
  {
   "cell_type": "code",
   "execution_count": 36,
   "metadata": {},
   "outputs": [
    {
     "data": {
      "text/html": [
       "<div>\n",
       "<style scoped>\n",
       "    .dataframe tbody tr th:only-of-type {\n",
       "        vertical-align: middle;\n",
       "    }\n",
       "\n",
       "    .dataframe tbody tr th {\n",
       "        vertical-align: top;\n",
       "    }\n",
       "\n",
       "    .dataframe thead th {\n",
       "        text-align: right;\n",
       "    }\n",
       "</style>\n",
       "<table border=\"1\" class=\"dataframe\">\n",
       "  <thead>\n",
       "    <tr style=\"text-align: right;\">\n",
       "      <th></th>\n",
       "      <th>App</th>\n",
       "      <th>Installs</th>\n",
       "    </tr>\n",
       "  </thead>\n",
       "  <tbody>\n",
       "    <tr>\n",
       "      <th>2544</th>\n",
       "      <td>Facebook</td>\n",
       "      <td>1000000000</td>\n",
       "    </tr>\n",
       "    <tr>\n",
       "      <th>2554</th>\n",
       "      <td>Google+</td>\n",
       "      <td>1000000000</td>\n",
       "    </tr>\n",
       "    <tr>\n",
       "      <th>2604</th>\n",
       "      <td>Instagram</td>\n",
       "      <td>1000000000</td>\n",
       "    </tr>\n",
       "    <tr>\n",
       "      <th>2610</th>\n",
       "      <td>Snapchat</td>\n",
       "      <td>500000000</td>\n",
       "    </tr>\n",
       "    <tr>\n",
       "      <th>2546</th>\n",
       "      <td>Facebook Lite</td>\n",
       "      <td>500000000</td>\n",
       "    </tr>\n",
       "    <tr>\n",
       "      <th>...</th>\n",
       "      <td>...</td>\n",
       "      <td>...</td>\n",
       "    </tr>\n",
       "    <tr>\n",
       "      <th>7147</th>\n",
       "      <td>CB Heroes</td>\n",
       "      <td>5</td>\n",
       "    </tr>\n",
       "    <tr>\n",
       "      <th>7712</th>\n",
       "      <td>C.P. CERVANTES (TOBARRA)</td>\n",
       "      <td>5</td>\n",
       "    </tr>\n",
       "    <tr>\n",
       "      <th>10101</th>\n",
       "      <td>Amleen Ey</td>\n",
       "      <td>1</td>\n",
       "    </tr>\n",
       "    <tr>\n",
       "      <th>6257</th>\n",
       "      <td>BH Connect</td>\n",
       "      <td>1</td>\n",
       "    </tr>\n",
       "    <tr>\n",
       "      <th>7434</th>\n",
       "      <td>Pekalongan CJ</td>\n",
       "      <td>0</td>\n",
       "    </tr>\n",
       "  </tbody>\n",
       "</table>\n",
       "<p>236 rows × 2 columns</p>\n",
       "</div>"
      ],
      "text/plain": [
       "                            App    Installs\n",
       "2544                   Facebook  1000000000\n",
       "2554                    Google+  1000000000\n",
       "2604                  Instagram  1000000000\n",
       "2610                   Snapchat   500000000\n",
       "2546              Facebook Lite   500000000\n",
       "...                         ...         ...\n",
       "7147                  CB Heroes           5\n",
       "7712   C.P. CERVANTES (TOBARRA)           5\n",
       "10101                 Amleen Ey           1\n",
       "6257                 BH Connect           1\n",
       "7434              Pekalongan CJ           0\n",
       "\n",
       "[236 rows x 2 columns]"
      ]
     },
     "execution_count": 36,
     "metadata": {},
     "output_type": "execute_result"
    }
   ],
   "source": [
    "social_category = dataset_final[dataset_final['Category']=='SOCIAL']\n",
    "social_category[['App','Installs']].sort_values('Installs',ascending = False)"
   ]
  },
  {
   "cell_type": "markdown",
   "metadata": {},
   "source": [
    "Again same situation! The best way to analyze the data would be to remove the industry giants from the dataset and then check out which category is popular."
   ]
  },
  {
   "cell_type": "code",
   "execution_count": 37,
   "metadata": {},
   "outputs": [],
   "source": [
    "dataset_final = dataset_final[dataset_final['Installs'] < 1000000000]"
   ]
  },
  {
   "cell_type": "code",
   "execution_count": 38,
   "metadata": {},
   "outputs": [
    {
     "data": {
      "text/plain": [
       "Category\n",
       "COMMUNICATION          1.792493e+07\n",
       "GAME                   1.444985e+07\n",
       "PHOTOGRAPHY            1.406257e+07\n",
       "PRODUCTIVITY           1.392915e+07\n",
       "VIDEO_PLAYERS          1.230402e+07\n",
       "ENTERTAINMENT          1.164071e+07\n",
       "SOCIAL                 1.067752e+07\n",
       "TOOLS                  9.480699e+06\n",
       "SHOPPING               7.036877e+06\n",
       "NEWS_AND_MAGAZINES     5.539256e+06\n",
       "PERSONALIZATION        5.201483e+06\n",
       "WEATHER                5.074486e+06\n",
       "TRAVEL_AND_LOCAL       4.364410e+06\n",
       "HEALTH_AND_FITNESS     4.188822e+06\n",
       "MAPS_AND_NAVIGATION    4.056942e+06\n",
       "SPORTS                 3.638640e+06\n",
       "BOOKS_AND_REFERENCE    3.523197e+06\n",
       "FAMILY                 3.106803e+06\n",
       "ART_AND_DESIGN         1.986335e+06\n",
       "FOOD_AND_DRINK         1.924898e+06\n",
       "EDUCATION              1.833495e+06\n",
       "BUSINESS               1.712290e+06\n",
       "LIFESTYLE              1.437816e+06\n",
       "FINANCE                1.387692e+06\n",
       "HOUSE_AND_HOME         1.331541e+06\n",
       "DATING                 8.540288e+05\n",
       "COMICS                 8.176573e+05\n",
       "AUTO_AND_VEHICLES      6.473178e+05\n",
       "LIBRARIES_AND_DEMO     6.385037e+05\n",
       "PARENTING              5.426036e+05\n",
       "BEAUTY                 5.131519e+05\n",
       "EVENTS                 2.535422e+05\n",
       "MEDICAL                1.205506e+05\n",
       "Name: Installs, dtype: float64"
      ]
     },
     "execution_count": 38,
     "metadata": {},
     "output_type": "execute_result"
    }
   ],
   "source": [
    "dataset_final.groupby('Category')['Installs'].mean().sort_values(ascending=False)"
   ]
  },
  {
   "cell_type": "code",
   "execution_count": 39,
   "metadata": {},
   "outputs": [
    {
     "data": {
      "text/html": [
       "<div>\n",
       "<style scoped>\n",
       "    .dataframe tbody tr th:only-of-type {\n",
       "        vertical-align: middle;\n",
       "    }\n",
       "\n",
       "    .dataframe tbody tr th {\n",
       "        vertical-align: top;\n",
       "    }\n",
       "\n",
       "    .dataframe thead th {\n",
       "        text-align: right;\n",
       "    }\n",
       "</style>\n",
       "<table border=\"1\" class=\"dataframe\">\n",
       "  <thead>\n",
       "    <tr style=\"text-align: right;\">\n",
       "      <th></th>\n",
       "      <th>App</th>\n",
       "      <th>Installs</th>\n",
       "    </tr>\n",
       "  </thead>\n",
       "  <tbody>\n",
       "    <tr>\n",
       "      <th>1966</th>\n",
       "      <td>Candy Crush Saga</td>\n",
       "      <td>500000000</td>\n",
       "    </tr>\n",
       "    <tr>\n",
       "      <th>1908</th>\n",
       "      <td>My Talking Tom</td>\n",
       "      <td>500000000</td>\n",
       "    </tr>\n",
       "    <tr>\n",
       "      <th>1885</th>\n",
       "      <td>Pou</td>\n",
       "      <td>500000000</td>\n",
       "    </tr>\n",
       "    <tr>\n",
       "      <th>1920</th>\n",
       "      <td>Temple Run 2</td>\n",
       "      <td>500000000</td>\n",
       "    </tr>\n",
       "    <tr>\n",
       "      <th>1879</th>\n",
       "      <td>Clash of Clans</td>\n",
       "      <td>100000000</td>\n",
       "    </tr>\n",
       "    <tr>\n",
       "      <th>...</th>\n",
       "      <td>...</td>\n",
       "      <td>...</td>\n",
       "    </tr>\n",
       "    <tr>\n",
       "      <th>10002</th>\n",
       "      <td>Ew, the small alien</td>\n",
       "      <td>10</td>\n",
       "    </tr>\n",
       "    <tr>\n",
       "      <th>7727</th>\n",
       "      <td>CQ: Lost In Transmission</td>\n",
       "      <td>10</td>\n",
       "    </tr>\n",
       "    <tr>\n",
       "      <th>8580</th>\n",
       "      <td>DM Adventure</td>\n",
       "      <td>10</td>\n",
       "    </tr>\n",
       "    <tr>\n",
       "      <th>6700</th>\n",
       "      <td>Brick Breaker BR</td>\n",
       "      <td>5</td>\n",
       "    </tr>\n",
       "    <tr>\n",
       "      <th>5855</th>\n",
       "      <td>Ay Vamos - PJ. Balvin - Piano</td>\n",
       "      <td>5</td>\n",
       "    </tr>\n",
       "  </tbody>\n",
       "</table>\n",
       "<p>860 rows × 2 columns</p>\n",
       "</div>"
      ],
      "text/plain": [
       "                                 App   Installs\n",
       "1966                Candy Crush Saga  500000000\n",
       "1908                  My Talking Tom  500000000\n",
       "1885                             Pou  500000000\n",
       "1920                    Temple Run 2  500000000\n",
       "1879                  Clash of Clans  100000000\n",
       "...                              ...        ...\n",
       "10002            Ew, the small alien         10\n",
       "7727        CQ: Lost In Transmission         10\n",
       "8580                    DM Adventure         10\n",
       "6700                Brick Breaker BR          5\n",
       "5855   Ay Vamos - PJ. Balvin - Piano          5\n",
       "\n",
       "[860 rows x 2 columns]"
      ]
     },
     "execution_count": 39,
     "metadata": {},
     "output_type": "execute_result"
    }
   ],
   "source": [
    "#We have already excluded communication category so let's look into game category.\n",
    "game_category = dataset_final[dataset_final['Category']=='GAME']\n",
    "game_category[['App','Installs']].sort_values('Installs',ascending = False)"
   ]
  },
  {
   "cell_type": "markdown",
   "metadata": {},
   "source": [
    "\n",
    "After all the data analysis, I recommend the company to introduce the app in the 'GAME' category. Now we need to look deep into this category to find which type of game will be most profitable for the company."
   ]
  },
  {
   "cell_type": "code",
   "execution_count": 40,
   "metadata": {},
   "outputs": [
    {
     "data": {
      "text/html": [
       "<div>\n",
       "<style scoped>\n",
       "    .dataframe tbody tr th:only-of-type {\n",
       "        vertical-align: middle;\n",
       "    }\n",
       "\n",
       "    .dataframe tbody tr th {\n",
       "        vertical-align: top;\n",
       "    }\n",
       "\n",
       "    .dataframe thead th {\n",
       "        text-align: right;\n",
       "    }\n",
       "</style>\n",
       "<table border=\"1\" class=\"dataframe\">\n",
       "  <thead>\n",
       "    <tr style=\"text-align: right;\">\n",
       "      <th></th>\n",
       "      <th>App</th>\n",
       "      <th>Category</th>\n",
       "      <th>Rating</th>\n",
       "      <th>Reviews</th>\n",
       "      <th>Size</th>\n",
       "      <th>Installs</th>\n",
       "      <th>Content Rating</th>\n",
       "      <th>Genres</th>\n",
       "      <th>Last Updated</th>\n",
       "      <th>Current Ver</th>\n",
       "      <th>Android Ver</th>\n",
       "    </tr>\n",
       "  </thead>\n",
       "  <tbody>\n",
       "    <tr>\n",
       "      <th>1879</th>\n",
       "      <td>Clash of Clans</td>\n",
       "      <td>GAME</td>\n",
       "      <td>4.6</td>\n",
       "      <td>44893888.0</td>\n",
       "      <td>98M</td>\n",
       "      <td>100000000</td>\n",
       "      <td>Everyone 10+</td>\n",
       "      <td>Strategy</td>\n",
       "      <td>July 15, 2018</td>\n",
       "      <td>10.322.16</td>\n",
       "      <td>4.1 and up</td>\n",
       "    </tr>\n",
       "    <tr>\n",
       "      <th>1878</th>\n",
       "      <td>Clash Royale</td>\n",
       "      <td>GAME</td>\n",
       "      <td>4.6</td>\n",
       "      <td>23136735.0</td>\n",
       "      <td>97M</td>\n",
       "      <td>100000000</td>\n",
       "      <td>Everyone 10+</td>\n",
       "      <td>Strategy</td>\n",
       "      <td>June 27, 2018</td>\n",
       "      <td>2.3.2</td>\n",
       "      <td>4.1 and up</td>\n",
       "    </tr>\n",
       "    <tr>\n",
       "      <th>1966</th>\n",
       "      <td>Candy Crush Saga</td>\n",
       "      <td>GAME</td>\n",
       "      <td>4.4</td>\n",
       "      <td>22430188.0</td>\n",
       "      <td>74M</td>\n",
       "      <td>500000000</td>\n",
       "      <td>Everyone</td>\n",
       "      <td>Casual</td>\n",
       "      <td>July 5, 2018</td>\n",
       "      <td>1.129.0.2</td>\n",
       "      <td>4.1 and up</td>\n",
       "    </tr>\n",
       "    <tr>\n",
       "      <th>1908</th>\n",
       "      <td>My Talking Tom</td>\n",
       "      <td>GAME</td>\n",
       "      <td>4.5</td>\n",
       "      <td>14892469.0</td>\n",
       "      <td>Varies with device</td>\n",
       "      <td>500000000</td>\n",
       "      <td>Everyone</td>\n",
       "      <td>Casual</td>\n",
       "      <td>July 19, 2018</td>\n",
       "      <td>4.8.0.132</td>\n",
       "      <td>4.1 and up</td>\n",
       "    </tr>\n",
       "    <tr>\n",
       "      <th>1871</th>\n",
       "      <td>8 Ball Pool</td>\n",
       "      <td>GAME</td>\n",
       "      <td>4.5</td>\n",
       "      <td>14201891.0</td>\n",
       "      <td>52M</td>\n",
       "      <td>100000000</td>\n",
       "      <td>Everyone</td>\n",
       "      <td>Sports</td>\n",
       "      <td>July 31, 2018</td>\n",
       "      <td>4.0.0</td>\n",
       "      <td>4.0.3 and up</td>\n",
       "    </tr>\n",
       "  </tbody>\n",
       "</table>\n",
       "</div>"
      ],
      "text/plain": [
       "                   App Category  Rating     Reviews                Size  \\\n",
       "1879    Clash of Clans     GAME     4.6  44893888.0                 98M   \n",
       "1878      Clash Royale     GAME     4.6  23136735.0                 97M   \n",
       "1966  Candy Crush Saga     GAME     4.4  22430188.0                 74M   \n",
       "1908    My Talking Tom     GAME     4.5  14892469.0  Varies with device   \n",
       "1871       8 Ball Pool     GAME     4.5  14201891.0                 52M   \n",
       "\n",
       "       Installs Content Rating    Genres   Last Updated Current Ver  \\\n",
       "1879  100000000   Everyone 10+  Strategy  July 15, 2018   10.322.16   \n",
       "1878  100000000   Everyone 10+  Strategy  June 27, 2018       2.3.2   \n",
       "1966  500000000       Everyone    Casual   July 5, 2018   1.129.0.2   \n",
       "1908  500000000       Everyone    Casual  July 19, 2018   4.8.0.132   \n",
       "1871  100000000       Everyone    Sports  July 31, 2018       4.0.0   \n",
       "\n",
       "       Android Ver  \n",
       "1879    4.1 and up  \n",
       "1878    4.1 and up  \n",
       "1966    4.1 and up  \n",
       "1908    4.1 and up  \n",
       "1871  4.0.3 and up  "
      ]
     },
     "execution_count": 40,
     "metadata": {},
     "output_type": "execute_result"
    }
   ],
   "source": [
    "game_category.head()"
   ]
  },
  {
   "cell_type": "code",
   "execution_count": 41,
   "metadata": {},
   "outputs": [
    {
     "data": {
      "text/plain": [
       "array(['Strategy', 'Casual', 'Sports', 'Action', 'Adventure', 'Racing',\n",
       "       'Arcade', 'Trivia', 'Puzzle', 'Role Playing', 'Casino', 'Card',\n",
       "       'Word', 'Board', 'Simulation', 'Music',\n",
       "       'Action;Action & Adventure'], dtype=object)"
      ]
     },
     "execution_count": 41,
     "metadata": {},
     "output_type": "execute_result"
    }
   ],
   "source": [
    "game_category['Genres'].unique()"
   ]
  },
  {
   "cell_type": "code",
   "execution_count": 42,
   "metadata": {},
   "outputs": [
    {
     "data": {
      "text/plain": [
       "Genres\n",
       "Casual                       9.268182e+07\n",
       "Sports                       5.266667e+07\n",
       "Puzzle                       2.740909e+07\n",
       "Strategy                     2.714667e+07\n",
       "Arcade                       1.689382e+07\n",
       "Racing                       1.591065e+07\n",
       "Simulation                   1.300000e+07\n",
       "Action                       1.260359e+07\n",
       "Action;Action & Adventure    1.000000e+07\n",
       "Music                        9.445583e+06\n",
       "Word                         9.094459e+06\n",
       "Role Playing                 8.454545e+06\n",
       "Adventure                    4.922785e+06\n",
       "Board                        4.759209e+06\n",
       "Card                         3.815462e+06\n",
       "Trivia                       3.475713e+06\n",
       "Casino                       3.427911e+06\n",
       "Name: Installs, dtype: float64"
      ]
     },
     "execution_count": 42,
     "metadata": {},
     "output_type": "execute_result"
    }
   ],
   "source": [
    "game_category.groupby('Genres')['Installs'].mean().sort_values(ascending=False)"
   ]
  },
  {
   "cell_type": "markdown",
   "metadata": {},
   "source": [
    "# Recommended App: Casual Game\n",
    "After all the data analysis, I recommend the company to introduce the app in the 'Game' Category with 'Casual' genre."
   ]
  },
  {
   "cell_type": "code",
   "execution_count": null,
   "metadata": {},
   "outputs": [],
   "source": []
  }
 ],
 "metadata": {
  "kernelspec": {
   "display_name": "Python 3",
   "language": "python",
   "name": "python3"
  },
  "language_info": {
   "codemirror_mode": {
    "name": "ipython",
    "version": 3
   },
   "file_extension": ".py",
   "mimetype": "text/x-python",
   "name": "python",
   "nbconvert_exporter": "python",
   "pygments_lexer": "ipython3",
   "version": "3.8.3"
  }
 },
 "nbformat": 4,
 "nbformat_minor": 4
}
